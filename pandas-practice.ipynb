{
 "cells": [
  {
   "cell_type": "markdown",
   "metadata": {},
   "source": [
    "# Pandas basic practice"
   ]
  },
  {
   "cell_type": "markdown",
   "metadata": {},
   "source": [
    "Check pep8 for standards of coding"
   ]
  },
  {
   "cell_type": "code",
   "execution_count": null,
   "metadata": {
    "scrolled": true
   },
   "outputs": [],
   "source": [
    "import pandas as pd\n",
    "\n",
    "%load_ext nb_black"
   ]
  },
  {
   "cell_type": "code",
   "execution_count": null,
   "metadata": {},
   "outputs": [],
   "source": [
    "DATAPATH = \"data/season-1819.csv\""
   ]
  },
  {
   "cell_type": "markdown",
   "metadata": {},
   "source": [
    "### 0. Připravte si data\n",
    "\n",
    "1. Stáhněte si soubor https://datahub.io/sports-data/english-premier-league/r/season-1819.csv\n",
    "1. Umístěte jej do složky data"
   ]
  },
  {
   "cell_type": "markdown",
   "metadata": {},
   "source": [
    "### 1. Načtěte data set `season-1819_csv.csv` a provedte následující úpravy:\n",
    "\n",
    "1. načtěte pouze prvních 17 sloupců\n",
    "1. zahoďte sloupce Div, FTR a HTR\n",
    "1. sloupec Date převeďte na datetime\n",
    "1. přejmenujte sloupce:\n",
    "  * FTHG: FullTimeHomeGoals\n",
    "  * FTAG: FullTimeAwayGoals\n",
    "  * HTHG: HalfTimeHomeGoals\n",
    "  * HTAG: HalfTimeAwayGoals\n",
    "  * HS: HomeShots\n",
    "  * AS: AwayShots\n",
    "  * HST: HomeShotsTarget\n",
    "  * AST: AwayShotsTarget\n",
    "  * HF: HomeFauls\n",
    "  * AF: AwayFauls"
   ]
  },
  {
   "cell_type": "code",
   "execution_count": null,
   "metadata": {
    "tags": [
     "solution"
    ]
   },
   "outputs": [],
   "source": [
    "### load the fist 17 columns from season-1819_csv.csv and drop Div, FTR, HTR columns\n",
    "COLS_TO_REMOVE = [\"Div\", \"FTR\", \"HTR\"]\n",
    "\n",
    "df_input = pd.read_csv(DATAPATH, usecols=range(17)).drop(columns=COLS_TO_REMOVE)"
   ]
  },
  {
   "cell_type": "code",
   "execution_count": null,
   "metadata": {},
   "outputs": [],
   "source": [
    "DATAURL = \"https://datahub.io/sports-data/english-premier-league/r/season-1819.csv\"\n",
    "\n",
    "pd.read_csv(DATAURL, usecols=range(17), parse_dates=[\"Date\"]).drop(\n",
    "    columns=[\"Div\", \"FTR\", \"HTR\"]\n",
    ").dtypes"
   ]
  },
  {
   "cell_type": "code",
   "execution_count": null,
   "metadata": {},
   "outputs": [],
   "source": [
    "df_input.dtypes"
   ]
  },
  {
   "cell_type": "markdown",
   "metadata": {},
   "source": [
    "* paths as constants\n",
    "* works with URL as well"
   ]
  },
  {
   "cell_type": "code",
   "execution_count": null,
   "metadata": {},
   "outputs": [],
   "source": [
    "### convert data in Date column to datetime\n",
    "df_input[\"Date\"] = pd.to_datetime(df_input[\"Date\"])"
   ]
  },
  {
   "cell_type": "code",
   "execution_count": null,
   "metadata": {},
   "outputs": [],
   "source": [
    "### rename the columns according to spec\n",
    "rename_dict = {\n",
    "    \"FTHG\": \"FullTimeHomeGoals\",\n",
    "    \"FTAG\": \"FullTimeAwayGoals\",\n",
    "    \"HTHG\": \"HalfTimeHomeGoals\",\n",
    "    \"HTAG\": \"HalfTimeAwayGoals\",\n",
    "    \"HS\": \"HomeShots\",\n",
    "    \"AS\": \"AwayShots\",\n",
    "    \"HST\": \"HomeShotsTarget\",\n",
    "    \"AST\": \"AwayShotsTarget\",\n",
    "    \"HF\": \"HomeFauls\",\n",
    "    \"AF\": \"AwayFauls\",\n",
    "}\n",
    "\n",
    "df_input = df_input.rename(columns=rename_dict)"
   ]
  },
  {
   "cell_type": "code",
   "execution_count": null,
   "metadata": {},
   "outputs": [],
   "source": [
    "df_input.head()"
   ]
  },
  {
   "cell_type": "markdown",
   "metadata": {},
   "source": [
    "### 2. Zjistěte jaké datové typy mají všechny sloupečky, zda data set obsahuje nějaké NaN hodnoty a jaké jsou základní statistiky číselných sloupců."
   ]
  },
  {
   "cell_type": "code",
   "execution_count": null,
   "metadata": {
    "scrolled": false
   },
   "outputs": [],
   "source": [
    "### check types of all columns\n",
    "df_input.info()"
   ]
  },
  {
   "cell_type": "code",
   "execution_count": null,
   "metadata": {},
   "outputs": [],
   "source": [
    "### Check number of NaNs per column\n",
    "df_input.apply(lambda x: x.isna().sum())"
   ]
  },
  {
   "cell_type": "code",
   "execution_count": null,
   "metadata": {},
   "outputs": [],
   "source": [
    "### Get summary statistics\n",
    "df_input.describe().T"
   ]
  },
  {
   "cell_type": "markdown",
   "metadata": {},
   "source": [
    "### 3. Zjistěte kolik různých týmů hraje anglickou ligu? Jaké týmy to jsou?"
   ]
  },
  {
   "cell_type": "code",
   "execution_count": null,
   "metadata": {},
   "outputs": [],
   "source": [
    "### Get number of teams in the league\n",
    "\n",
    "home_teams = df_input[\"HomeTeam\"].unique()\n",
    "away_teams = df_input[\"AwayTeam\"].unique()\n",
    "\n",
    "assert set(home_teams) == set(\n",
    "    away_teams\n",
    "), f\"Sets of home teams and away teams are not equal\"\n",
    "\n",
    "f\"Number of teams in the league is {len(home_teams)}.\""
   ]
  },
  {
   "cell_type": "markdown",
   "metadata": {},
   "source": [
    "### 4. Přidejte sloupečky `HomeShotAccuracy` a `AwayShotAccuracy`, které říkají jaké procento střeleckých pokusů (Shots) nakonec mířilo na bránu (ShotsTarget). Vizualizujte rozdělení hodnot obou sloupců."
   ]
  },
  {
   "cell_type": "code",
   "execution_count": null,
   "metadata": {},
   "outputs": [],
   "source": [
    "df_input.head()"
   ]
  },
  {
   "cell_type": "code",
   "execution_count": null,
   "metadata": {},
   "outputs": [],
   "source": [
    "import numpy as np"
   ]
  },
  {
   "cell_type": "code",
   "execution_count": null,
   "metadata": {},
   "outputs": [],
   "source": [
    "def get_accuracy(shots, shots_target):\n",
    "    shots_nozeros = shots.replace(0, np.nan)\n",
    "\n",
    "    return shots_target / shots_nozeros"
   ]
  },
  {
   "cell_type": "code",
   "execution_count": null,
   "metadata": {},
   "outputs": [],
   "source": [
    "df_input = df_input.assign(\n",
    "    **{\n",
    "        \"HomeShotAccuracy\": get_accuracy(\n",
    "            df_input[\"HomeShots\"], df_input[\"HomeShotsTarget\"]\n",
    "        ),\n",
    "        \"AwayShotAccuracy\": get_accuracy(\n",
    "            df_input[\"AwayShots\"], df_input[\"AwayShotsTarget\"]\n",
    "        ),\n",
    "    }\n",
    ")"
   ]
  },
  {
   "cell_type": "code",
   "execution_count": null,
   "metadata": {
    "scrolled": true
   },
   "outputs": [],
   "source": [
    "df_input[\"HomeShotAccuracy\"].hist()\n",
    "df_input[\"AwayShotAccuracy\"].hist()"
   ]
  },
  {
   "cell_type": "markdown",
   "metadata": {},
   "source": [
    "* check (im)mutable types in python\n",
    "* single responsibility principle"
   ]
  },
  {
   "cell_type": "markdown",
   "metadata": {},
   "source": [
    "### 5. Vytvořte sloupeček `FullTimeWinner`, který obsahuje:\n",
    "\n",
    "- `H`, pokud zvítězil `HomeTeam`\n",
    "- `A`, pokud zvítězil `AwayTeam`\n",
    "- `D`, pokud zápas skončil remízou\n",
    "\n",
    "**Poznámka: Zatím neznáme apply, ale známe loc. Použijte tedy šikovně loc.** "
   ]
  },
  {
   "cell_type": "code",
   "execution_count": null,
   "metadata": {},
   "outputs": [],
   "source": [
    "### approach with .loc\n",
    "def get_full_time_winner(_df):\n",
    "    _df[\"FullTimeWinner\"] = np.nan\n",
    "\n",
    "    _df.loc[_df[\"FullTimeHomeGoals\"] < _df[\"FullTimeAwayGoals\"], \"FullTimeWinner\"] = \"A\"\n",
    "\n",
    "    _df.loc[\n",
    "        _df[\"FullTimeHomeGoals\"] == _df[\"FullTimeAwayGoals\"], \"FullTimeWinner\"\n",
    "    ] = \"D\"\n",
    "\n",
    "    _df.loc[_df[\"FullTimeHomeGoals\"] > _df[\"FullTimeAwayGoals\"], \"FullTimeWinner\"] = \"H\"\n",
    "\n",
    "    return _df\n",
    "\n",
    "\n",
    "### approach with mapping\n",
    "# def get_full_time_winner(_df):\n",
    "#     home_away_full_time_goals_difference = df_input[\"FullTimeHomeGoals\"] - df_input[\"FullTimeAwayGoals\"]\n",
    "#     full_time_winner_dict = {-1: 'A', 0: 'D', 1:'H'}\n",
    "\n",
    "#     _df['FullTimeWinner'] = np.sign(home_away_full_time_goals_difference).map(full_time_winner_dict)\n",
    "\n",
    "#     return _df\n",
    "\n",
    "df_input = get_full_time_winner(df_input)"
   ]
  },
  {
   "cell_type": "markdown",
   "metadata": {},
   "source": [
    "### 6. Řekněme, že nás zajímá tým West Ham. Zjistětě, kolik průměrně vsítí gólů v domácích zápasech, které vyhraje a kolik v domácích zápasech, které prohraje."
   ]
  },
  {
   "cell_type": "code",
   "execution_count": null,
   "metadata": {
    "scrolled": true
   },
   "outputs": [],
   "source": [
    "df_input.loc[(df_input[\"HomeTeam\"] == \"West Ham\")].groupby(\"FullTimeWinner\")[\n",
    "    [\"FullTimeHomeGoals\"]\n",
    "].mean().drop([\"D\"], axis=0).rename(\n",
    "    {\"A\": \"WestHamHomeLoss\", \"H\": \"WestHamHomeWin\"}, axis=0\n",
    ").rename(\n",
    "    {\"FullTimeHomeGoals\": \"FullTimeHomeGoalsMean\"}, axis=1\n",
    ").rename_axis(\n",
    "    None, axis=0\n",
    ")"
   ]
  },
  {
   "cell_type": "markdown",
   "metadata": {},
   "source": [
    "### 7. Jaký je median faulů, střel na branku a vstřelených gólů West Ham pro předchozích pět domácích zápasů? Jak se tyto statistiky vyvíjí v čase? Vizualizujte je."
   ]
  },
  {
   "cell_type": "code",
   "execution_count": null,
   "metadata": {
    "scrolled": true
   },
   "outputs": [],
   "source": [
    "df_input.head()"
   ]
  },
  {
   "cell_type": "code",
   "execution_count": null,
   "metadata": {},
   "outputs": [],
   "source": [
    "df_west_ham_rolling_5_home_matches_median = (\n",
    "    df_input.loc[\n",
    "        ((df_input[\"HomeTeam\"] == \"West Ham\")),\n",
    "        [\"FullTimeHomeGoals\", \"HomeShotsTarget\", \"HomeFauls\"],\n",
    "    ]\n",
    "    .rolling(5)\n",
    "    .median()\n",
    ")"
   ]
  },
  {
   "cell_type": "code",
   "execution_count": null,
   "metadata": {},
   "outputs": [],
   "source": [
    "df_west_ham_rolling_5_home_matches_median.iloc[-1].rename(\n",
    "    \"Last5HomeMatchesMedian\", axis=0\n",
    ").to_frame()"
   ]
  },
  {
   "cell_type": "code",
   "execution_count": null,
   "metadata": {},
   "outputs": [],
   "source": [
    "df_west_ham_rolling_5_home_matches_median.plot()"
   ]
  },
  {
   "cell_type": "markdown",
   "metadata": {},
   "source": [
    "### 8. Je domácí prostředí výhodou?\n",
    "\n",
    "**Poznámka: Součástí řešení je zamyslet se, jakou formou tuto otázku zodpovědět a jaké předpoklady si mohu dovolit udělat.** "
   ]
  },
  {
   "cell_type": "code",
   "execution_count": null,
   "metadata": {},
   "outputs": [],
   "source": []
  },
  {
   "cell_type": "markdown",
   "metadata": {},
   "source": [
    "### 9. Kolik který rozhodčí odpískal za sezónu průměrně faulů za zápas? Seřaďte je od těch nejpřísnějších."
   ]
  },
  {
   "cell_type": "code",
   "execution_count": null,
   "metadata": {},
   "outputs": [],
   "source": []
  },
  {
   "cell_type": "markdown",
   "metadata": {},
   "source": [
    "### 10. (BONUS) Budu víc vyhrávat, když budu víc faulovat?"
   ]
  },
  {
   "cell_type": "code",
   "execution_count": null,
   "metadata": {},
   "outputs": [],
   "source": []
  },
  {
   "cell_type": "code",
   "execution_count": null,
   "metadata": {
    "tags": [
     "solution"
    ]
   },
   "outputs": [],
   "source": [
    "# Discuss the solution and implement it with the students"
   ]
  }
 ],
 "metadata": {
  "celltoolbar": "Tags",
  "kernelspec": {
   "display_name": "Python 3 (ipykernel)",
   "language": "python",
   "name": "python3"
  },
  "language_info": {
   "codemirror_mode": {
    "name": "ipython",
    "version": 3
   },
   "file_extension": ".py",
   "mimetype": "text/x-python",
   "name": "python",
   "nbconvert_exporter": "python",
   "pygments_lexer": "ipython3",
   "version": "3.7.12"
  }
 },
 "nbformat": 4,
 "nbformat_minor": 2
}
